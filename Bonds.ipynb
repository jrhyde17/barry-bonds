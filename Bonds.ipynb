{
 "cells": [
  {
   "cell_type": "code",
   "execution_count": 2,
   "metadata": {},
   "outputs": [
    {
     "data": {
      "image/png": "[encoded data removed]",
      "text/plain": [
       "<Figure size 432x288 with 1 Axes>"
      ]
     },
     "metadata": {
      "needs_background": "light"
     },
     "output_type": "display_data"
    },
    {
     "name": "stdout",
     "output_type": "stream",
     "text": [
      "Overall OBP:  0.5908202612692495\n"
     ]
    }
   ],
   "source": [
    "import matplotlib.pyplot as mp\n",
    "import os\n",
    "import re\n",
    "\n",
    "# Each file in /txts/ contains PITCH SEQUENCE (field 7) and \n",
    "#   BATTER ID (field 10) from Retrosheet's 2004 event files\n",
    "\n",
    "\n",
    "# Collect every Bonds plate appearance from each file in txts\n",
    "bonds = []\n",
    "for filename in os.listdir('txts'):\n",
    "    f = open(os.path.join('txts',filename),'r')\n",
    "    ft = f.read().split()\n",
    "    for i in ft:\n",
    "        if (i.split(\",\")[1] == '\"bondb001\"'):\n",
    "            bonds.append(i.split(\",\")[0].strip('\"\"'))\n",
    "    f.close()\n",
    "\n",
    "# For each plate appearance, calculate and accumulate expected walks\n",
    "expw = 0\n",
    "expws = []\n",
    "pa = 0\n",
    "pas = list(range(len(bonds)))\n",
    "obp = []\n",
    "for i in range(len(bonds)):\n",
    "    pw = parsePA(bonds[i])\n",
    "    expw += pw\n",
    "    expws.append(expw)\n",
    "    obp.append(expw/(i+1))\n",
    "    #print([expw,obp[i]])\n",
    "    \n",
    "# Plot OBP across season\n",
    "mp.plot(obp[20:])\n",
    "mp.plot([1,len(bonds)],[.609,.609],linestyle=':')\n",
    "#mp.plot([1,len(bonds)],[.582,.582])\n",
    "mp.ylim([0.50,0.65])\n",
    "mp.yticks([.5,.53,.56,.59,.62,.65])\n",
    "mp.title(\"Expected OBP Without Bat, Bonds '04\")\n",
    "mp.xlabel(\"Plate Appearance\")\n",
    "mp.ylabel(\"OBP\")\n",
    "mp.show()\n",
    "\n",
    "print(\"Overall OBP: \",obp[-1])"
   ]
  },
  {
   "cell_type": "code",
   "execution_count": 1,
   "metadata": {},
   "outputs": [],
   "source": [
    "def parsePA(sequence):\n",
    "    import numpy as np\n",
    "    \n",
    "    np.set_printoptions(precision=3,suppress = True)\n",
    "    \n",
    "    # First: prepare the sequence\n",
    "    #print(sequence)\n",
    "    seq = re.sub(\"[+*.123>]\",\"\",sequence)\n",
    "    for i in range(len(seq),6):\n",
    "        seq += \"?\"\n",
    "    seq = seq[:6]\n",
    "    #print(seq)\n",
    "        \n",
    "    # Assign ball probability to each pitch\n",
    "    pb = np.zeros(6)\n",
    "    hbp = False\n",
    "    for i in range(6):\n",
    "        if seq[i] == \"H\" or hbp:\n",
    "            pb[i] = 1\n",
    "            hbp = True\n",
    "        elif seq[i] in \"BI\":\n",
    "            pb[i] = 1\n",
    "        elif seq[i] in \"FLSTX\":\n",
    "            pb[i] = 0.191\n",
    "        elif seq[i] in \"C\":\n",
    "            pb[i] = 0\n",
    "        elif seq[i] in \"?\":\n",
    "            pb[i] = 0.587\n",
    "        else:\n",
    "            print(seq)\n",
    "            return\n",
    "\n",
    "    # Generate count probabilities\n",
    "    counts = np.zeros([5,4])\n",
    "    counts[0,0] = 1\n",
    "    for b in range(4):\n",
    "        counts[b+1,0] = counts[b,0]*pb[b]\n",
    "    for s in range(3):\n",
    "        counts[0,s+1] = counts[0,s]*(1-pb[s])\n",
    "    for b in range(3):\n",
    "        for s in range(2):\n",
    "            counts[b+1,s+1] = counts[b,s+1]*pb[b+s+1] + counts[b+1,s]*(1-pb[b+s+1])\n",
    "    for b in range(3):\n",
    "        counts[b+1,3] = counts[b+1,2]*(1-pb[b+3])\n",
    "    for s in range(2):\n",
    "        counts[4,s+1] = counts[3,s+1]*pb[s+4]\n",
    "        \n",
    "    #print(pb)\n",
    "    #print(counts)\n",
    "    \n",
    "    # P(walk) = p(4-0)+p(4-1)+p(4-2)\n",
    "    return sum(counts[4,:])"
   ]
  },
  {
   "cell_type": "code",
   "execution_count": null,
   "metadata": {},
   "outputs": [],
   "source": []
  }
 ],
 "metadata": {
  "kernelspec": {
   "display_name": "Python 3",
   "language": "python",
   "name": "python3"
  },
  "language_info": {
   "codemirror_mode": {
    "name": "ipython",
    "version": 3
   },
   "file_extension": ".py",
   "mimetype": "text/x-python",
   "name": "python",
   "nbconvert_exporter": "python",
   "pygments_lexer": "ipython3",
   "version": "3.7.6"
  }
 },
 "nbformat": 4,
 "nbformat_minor": 4
}
